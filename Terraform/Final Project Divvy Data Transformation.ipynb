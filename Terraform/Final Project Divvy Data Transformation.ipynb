{
 "cells": [
  {
   "cell_type": "code",
   "execution_count": 1,
   "id": "78cefef0",
   "metadata": {},
   "outputs": [],
   "source": [
    "import pandas as pd\n",
    "from datetime import datetime\n",
    "import pyarrow as pa\n",
    "import pyarrow.parquet as pq"
   ]
  },
  {
   "cell_type": "code",
   "execution_count": 42,
   "id": "56d69aa1",
   "metadata": {},
   "outputs": [
    {
     "data": {
      "text/plain": [
       "'https://divvy-tripdata.s3.amazonaws.com/202202-divvy-tripdata.zip'"
      ]
     },
     "execution_count": 42,
     "metadata": {},
     "output_type": "execute_result"
    }
   ],
   "source": [
    "url_base =  'https://divvy-tripdata.s3.amazonaws.com/'\n",
    "file_end = '-divvy-tripdata.zip'\n",
    "year = '{:04d}'.format(datetime.now().year)\n",
    "month ='{:02d}'.format(datetime.now().month-1)\n",
    "file = year+month\n",
    "target = url_base + file + file_end\n",
    "target"
   ]
  },
  {
   "cell_type": "code",
   "execution_count": 46,
   "id": "9d5a693b",
   "metadata": {},
   "outputs": [
    {
     "name": "stdout",
     "output_type": "stream",
     "text": [
      "--2022-03-07 13:27:05--  https://divvy-tripdata.s3.amazonaws.com/202202-divvy-tripdata.zip\n",
      "Resolving divvy-tripdata.s3.amazonaws.com (divvy-tripdata.s3.amazonaws.com)... 52.217.206.25\n",
      "Connecting to divvy-tripdata.s3.amazonaws.com (divvy-tripdata.s3.amazonaws.com)|52.217.206.25|:443... connected.\n",
      "HTTP request sent, awaiting response... 200 OK\n",
      "Length: 4304708 (4.1M) [application/zip]\n",
      "Saving to: ‘202202-divvy-tripdata.zip’\n",
      "\n",
      "202202-divvy-tripda 100%[===================>]   4.10M  5.34MB/s    in 0.8s    \n",
      "\n",
      "2022-03-07 13:27:07 (5.34 MB/s) - ‘202202-divvy-tripdata.zip’ saved [4304708/4304708]\n",
      "\n"
     ]
    }
   ],
   "source": [
    "!wget {target}"
   ]
  },
  {
   "cell_type": "code",
   "execution_count": 22,
   "id": "c6d906ce",
   "metadata": {},
   "outputs": [
    {
     "name": "stdout",
     "output_type": "stream",
     "text": [
      " 202004-divvy-tripdata.csv   file_name.parquet\r\n",
      " dags\t\t\t    'Final Project Divvy Data Transformation.ipynb'\r\n",
      " docker-compose.yaml\t     README.md\r\n",
      " Dockerfile\r\n"
     ]
    }
   ],
   "source": [
    "#!wget https://divvy-tripdata.s3.amazonaws.com/202004-divvy-tripdata.zip"
   ]
  },
  {
   "cell_type": "code",
   "execution_count": 5,
   "id": "e97bda26",
   "metadata": {},
   "outputs": [],
   "source": [
    "df = pd.read_csv('202004-divvy-tripdata.csv', nrows = 10000)"
   ]
  },
  {
   "cell_type": "code",
   "execution_count": 7,
   "id": "b2d84c82",
   "metadata": {},
   "outputs": [
    {
     "data": {
      "text/plain": [
       "array(['docked_bike'], dtype=object)"
      ]
     },
     "execution_count": 7,
     "metadata": {},
     "output_type": "execute_result"
    }
   ],
   "source": [
    "df.rideable_type.unique()"
   ]
  },
  {
   "cell_type": "code",
   "execution_count": 24,
   "id": "987df5c8",
   "metadata": {},
   "outputs": [
    {
     "name": "stdout",
     "output_type": "stream",
     "text": [
      "CREATE TABLE \"DivvyShema\" (\n",
      "\"ride_id\" TEXT,\n",
      "  \"rideable_type\" TEXT,\n",
      "  \"started_at\" TEXT,\n",
      "  \"ended_at\" TEXT,\n",
      "  \"start_station_name\" TEXT,\n",
      "  \"start_station_id\" INTEGER,\n",
      "  \"end_station_name\" TEXT,\n",
      "  \"end_station_id\" INTEGER,\n",
      "  \"start_lat\" REAL,\n",
      "  \"start_lng\" REAL,\n",
      "  \"end_lat\" REAL,\n",
      "  \"end_lng\" REAL,\n",
      "  \"member_casual\" TEXT\n",
      ")\n"
     ]
    }
   ],
   "source": [
    "print(pd.io.sql.get_schema(df, 'DivvyShema'))"
   ]
  },
  {
   "cell_type": "code",
   "execution_count": 25,
   "id": "9a850fc7",
   "metadata": {},
   "outputs": [],
   "source": [
    "df.started_at = pd.to_datetime(df.started_at)\n",
    "df.ended_at = pd.to_datetime(df.ended_at)"
   ]
  },
  {
   "cell_type": "code",
   "execution_count": 26,
   "id": "d6516e28",
   "metadata": {},
   "outputs": [
    {
     "name": "stdout",
     "output_type": "stream",
     "text": [
      "CREATE TABLE \"DivvyShema\" (\n",
      "\"ride_id\" TEXT,\n",
      "  \"rideable_type\" TEXT,\n",
      "  \"started_at\" TIMESTAMP,\n",
      "  \"ended_at\" TIMESTAMP,\n",
      "  \"start_station_name\" TEXT,\n",
      "  \"start_station_id\" INTEGER,\n",
      "  \"end_station_name\" TEXT,\n",
      "  \"end_station_id\" INTEGER,\n",
      "  \"start_lat\" REAL,\n",
      "  \"start_lng\" REAL,\n",
      "  \"end_lat\" REAL,\n",
      "  \"end_lng\" REAL,\n",
      "  \"member_casual\" TEXT\n",
      ")\n"
     ]
    }
   ],
   "source": [
    "print(pd.io.sql.get_schema(df, 'DivvyShema'))"
   ]
  },
  {
   "cell_type": "code",
   "execution_count": 27,
   "id": "c962cf31",
   "metadata": {},
   "outputs": [],
   "source": [
    "table = pa.Table.from_pandas(df)\n",
    "pq.write_table(table, 'file_name.parquet')"
   ]
  },
  {
   "cell_type": "code",
   "execution_count": 28,
   "id": "74b805a0",
   "metadata": {},
   "outputs": [],
   "source": [
    "test_df = pd.read_parquet('file_name.parquet')"
   ]
  },
  {
   "cell_type": "code",
   "execution_count": 29,
   "id": "008a5e98",
   "metadata": {},
   "outputs": [
    {
     "name": "stdout",
     "output_type": "stream",
     "text": [
      "CREATE TABLE \"DivvyShema\" (\n",
      "\"ride_id\" TEXT,\n",
      "  \"rideable_type\" TEXT,\n",
      "  \"started_at\" TIMESTAMP,\n",
      "  \"ended_at\" TIMESTAMP,\n",
      "  \"start_station_name\" TEXT,\n",
      "  \"start_station_id\" INTEGER,\n",
      "  \"end_station_name\" TEXT,\n",
      "  \"end_station_id\" INTEGER,\n",
      "  \"start_lat\" REAL,\n",
      "  \"start_lng\" REAL,\n",
      "  \"end_lat\" REAL,\n",
      "  \"end_lng\" REAL,\n",
      "  \"member_casual\" TEXT\n",
      ")\n"
     ]
    }
   ],
   "source": [
    "print(pd.io.sql.get_schema(test_df, 'DivvyShema'))"
   ]
  },
  {
   "cell_type": "code",
   "execution_count": null,
   "id": "42335319",
   "metadata": {},
   "outputs": [],
   "source": []
  }
 ],
 "metadata": {
  "kernelspec": {
   "display_name": "Python 3 (ipykernel)",
   "language": "python",
   "name": "python3"
  },
  "language_info": {
   "codemirror_mode": {
    "name": "ipython",
    "version": 3
   },
   "file_extension": ".py",
   "mimetype": "text/x-python",
   "name": "python",
   "nbconvert_exporter": "python",
   "pygments_lexer": "ipython3",
   "version": "3.8.10"
  }
 },
 "nbformat": 4,
 "nbformat_minor": 5
}
